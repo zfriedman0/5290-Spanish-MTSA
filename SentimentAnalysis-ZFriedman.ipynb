{
 "cells": [
  {
   "cell_type": "markdown",
   "id": "aaa3c67a",
   "metadata": {},
   "source": [
    "# Sentiment Analysis - Spanish Movie Reviews\n",
    "**By Zach Friedman**, zacheryfriedman@my.unt.edu"
   ]
  },
  {
   "cell_type": "code",
   "execution_count": 136,
   "id": "3a574b84",
   "metadata": {},
   "outputs": [
    {
     "name": "stderr",
     "output_type": "stream",
     "text": [
      "[nltk_data] Downloading package punkt to /home/zach/nltk_data...\n",
      "[nltk_data]   Package punkt is already up-to-date!\n",
      "[nltk_data] Downloading package stopwords to /home/zach/nltk_data...\n",
      "[nltk_data]   Package stopwords is already up-to-date!\n",
      "[nltk_data] Downloading package sentiwordnet to\n",
      "[nltk_data]     /home/zach/nltk_data...\n",
      "[nltk_data]   Package sentiwordnet is already up-to-date!\n",
      "[nltk_data] Downloading package wordnet to /home/zach/nltk_data...\n",
      "[nltk_data]   Package wordnet is already up-to-date!\n",
      "[nltk_data] Downloading package omw-1.4 to /home/zach/nltk_data...\n",
      "[nltk_data]   Package omw-1.4 is already up-to-date!\n",
      "[nltk_data] Downloading package vader_lexicon to\n",
      "[nltk_data]     /home/zach/nltk_data...\n",
      "[nltk_data]   Package vader_lexicon is already up-to-date!\n"
     ]
    },
    {
     "data": {
      "text/plain": [
       "True"
      ]
     },
     "execution_count": 136,
     "metadata": {},
     "output_type": "execute_result"
    }
   ],
   "source": [
    "import pandas as pd\n",
    "import nltk\n",
    "import numpy as np\n",
    "\n",
    "# NLTK VADER imports\n",
    "from nltk.tokenize import WordPunctTokenizer, sent_tokenize\n",
    "from nltk.corpus import sentiwordnet as swn\n",
    "from nltk.corpus import stopwords\n",
    "from nltk.stem import WordNetLemmatizer\n",
    "from nltk.sentiment.vader import SentimentIntensityAnalyzer\n",
    "from collections import Counter\n",
    "# Naive Bayes imports\n",
    "from sklearn.model_selection import train_test_split\n",
    "from sklearn.feature_extraction.text import TfidfVectorizer\n",
    "from sklearn.naive_bayes import MultinomialNB, BernoulliNB\n",
    "from sklearn.metrics import accuracy_score, confusion_matrix, ConfusionMatrixDisplay, classification_report\n",
    "\n",
    "from sklearn.linear_model import LogisticRegression\n",
    "\n",
    "nltk.download('punkt')\n",
    "nltk.download('stopwords')\n",
    "nltk.download('sentiwordnet')\n",
    "nltk.download('wordnet')\n",
    "nltk.download('omw-1.4')\n",
    "nltk.download('vader_lexicon')"
   ]
  },
  {
   "cell_type": "markdown",
   "id": "f460b5dd",
   "metadata": {},
   "source": [
    "## Preliminary Model: VADER Sentiment Analysis Tool\n",
    "> https://github.com/cjhutto/vaderSentiment"
   ]
  },
  {
   "cell_type": "code",
   "execution_count": 79,
   "id": "290bd2bd",
   "metadata": {},
   "outputs": [],
   "source": [
    "df = pd.read_csv('./sanitized_v2.csv')"
   ]
  },
  {
   "cell_type": "code",
   "execution_count": 80,
   "id": "44b3a26b",
   "metadata": {},
   "outputs": [],
   "source": [
    "def analyze(doc):\n",
    "    sia = SentimentIntensityAnalyzer()\n",
    "    #doc = \" \".join(doc)\n",
    "    #sentiment = sia.polarity_scores(doc)\n",
    "    return sia.polarity_scores(doc)\n",
    "\n",
    "def sentence_tokenizer(doc):\n",
    "    sentences = sent_tokenize(doc)\n",
    "    #lemmatizer = WordNetLemmatizer()\n",
    "    \n",
    "    sentences = [[word.lower() for word in sent.split() if word not in stopwords.words('english')] for sent in sentences]\n",
    "    \n",
    "    return [\" \".join(sent) for sent in sentences]"
   ]
  },
  {
   "cell_type": "code",
   "execution_count": 81,
   "id": "2c5cb66f",
   "metadata": {},
   "outputs": [],
   "source": [
    "df['review_en'] = df['review_en'].apply(sentence_tokenizer) # Apply sentence tokenization to each English review in the dataframe"
   ]
  },
  {
   "cell_type": "code",
   "execution_count": 82,
   "id": "a7ce40cd",
   "metadata": {},
   "outputs": [
    {
     "data": {
      "text/html": [
       "<div>\n",
       "<style scoped>\n",
       "    .dataframe tbody tr th:only-of-type {\n",
       "        vertical-align: middle;\n",
       "    }\n",
       "\n",
       "    .dataframe tbody tr th {\n",
       "        vertical-align: top;\n",
       "    }\n",
       "\n",
       "    .dataframe thead th {\n",
       "        text-align: right;\n",
       "    }\n",
       "</style>\n",
       "<table border=\"1\" class=\"dataframe\">\n",
       "  <thead>\n",
       "    <tr style=\"text-align: right;\">\n",
       "      <th></th>\n",
       "      <th>prediction</th>\n",
       "    </tr>\n",
       "  </thead>\n",
       "  <tbody>\n",
       "    <tr>\n",
       "      <th>0</th>\n",
       "      <td>negative</td>\n",
       "    </tr>\n",
       "    <tr>\n",
       "      <th>1</th>\n",
       "      <td>positive</td>\n",
       "    </tr>\n",
       "    <tr>\n",
       "      <th>2</th>\n",
       "      <td>positive</td>\n",
       "    </tr>\n",
       "    <tr>\n",
       "      <th>3</th>\n",
       "      <td>negative</td>\n",
       "    </tr>\n",
       "    <tr>\n",
       "      <th>4</th>\n",
       "      <td>positive</td>\n",
       "    </tr>\n",
       "    <tr>\n",
       "      <th>...</th>\n",
       "      <td>...</td>\n",
       "    </tr>\n",
       "    <tr>\n",
       "      <th>49995</th>\n",
       "      <td>positive</td>\n",
       "    </tr>\n",
       "    <tr>\n",
       "      <th>49996</th>\n",
       "      <td>positive</td>\n",
       "    </tr>\n",
       "    <tr>\n",
       "      <th>49997</th>\n",
       "      <td>negative</td>\n",
       "    </tr>\n",
       "    <tr>\n",
       "      <th>49998</th>\n",
       "      <td>negative</td>\n",
       "    </tr>\n",
       "    <tr>\n",
       "      <th>49999</th>\n",
       "      <td>positive</td>\n",
       "    </tr>\n",
       "  </tbody>\n",
       "</table>\n",
       "<p>50000 rows × 1 columns</p>\n",
       "</div>"
      ],
      "text/plain": [
       "      prediction\n",
       "0       negative\n",
       "1       positive\n",
       "2       positive\n",
       "3       negative\n",
       "4       positive\n",
       "...          ...\n",
       "49995   positive\n",
       "49996   positive\n",
       "49997   negative\n",
       "49998   negative\n",
       "49999   positive\n",
       "\n",
       "[50000 rows x 1 columns]"
      ]
     },
     "execution_count": 82,
     "metadata": {},
     "output_type": "execute_result"
    }
   ],
   "source": [
    "labels = [] # A list to hold the predicted labels for each review\n",
    "\n",
    "for i in range(len(df)): # For each review in the dataframe...\n",
    "    review_sentiment = [] # A list to hold the sentiments of each sentence in a review\n",
    "\n",
    "    for sent in df['review_en'].iloc()[i]: # For each sentence in a review...\n",
    "\n",
    "        analysis = analyze(sent) # Apply the sentiment intensity analyzer to each sentence\n",
    "\n",
    "        subset = ['neg', 'pos'] # We only care about the negative and positive scores, since the dataset does not include neutral labels\n",
    "        subset_dict = {key: value for key, value in analysis.items() if key in subset} # Create a subset dictionary with 'neg' and 'pos' key-value pairs\n",
    "\n",
    "        sentiment = max(subset_dict, key=subset_dict.get) # Get the maximum of the 'neg' and 'pos' scores\n",
    "\n",
    "        review_sentiment.append(sentiment) # Append the sentiment for the current sentence to the list of sentiments\n",
    "\n",
    "    sentiment_counts = Counter(review_sentiment) # Count the number of 'neg' and 'pos' in the list of sentiments\n",
    "\n",
    "    # Find the most common sentiment in the list of sentiments for a review and append the appropriate label to the list of prediction labels\n",
    "    if sentiment_counts.most_common(1)[0][0] == 'neg':\n",
    "        labels.append('negative')\n",
    "    else:\n",
    "        labels.append('positive')\n",
    "\n",
    "predictions = pd.DataFrame(data=labels, columns=[\"prediction\"])\n",
    "\n",
    "predictions"
   ]
  },
  {
   "cell_type": "code",
   "execution_count": 83,
   "id": "16fb9ecb",
   "metadata": {},
   "outputs": [],
   "source": [
    "predictions.to_csv(\"predictions_v2.csv\")"
   ]
  },
  {
   "cell_type": "code",
   "execution_count": 115,
   "id": "9548f7bb",
   "metadata": {},
   "outputs": [
    {
     "name": "stdout",
     "output_type": "stream",
     "text": [
      "VADER accuracy: 0.68998\n"
     ]
    }
   ],
   "source": [
    "merged = pd.merge(df['sentiment'], predictions['prediction'], left_index=True, right_index=True)\n",
    "\n",
    "boolean_mask = merged.iloc[:,0] == merged.iloc[:,1]\n",
    "\n",
    "vader_accuracy = boolean_mask.mean()\n",
    "\n",
    "print(f\"VADER accuracy: {vader_accuracy}\")"
   ]
  },
  {
   "cell_type": "markdown",
   "id": "66c3e0e8",
   "metadata": {},
   "source": [
    "## Multinomial Naive Bayes"
   ]
  },
  {
   "cell_type": "code",
   "execution_count": 85,
   "id": "3a8bcf06",
   "metadata": {},
   "outputs": [
    {
     "name": "stderr",
     "output_type": "stream",
     "text": [
      "/tmp/ipykernel_8856/1248093981.py:3: FutureWarning: In a future version of pandas all arguments of DataFrame.drop except for the argument 'labels' will be keyword-only.\n",
      "  fresh_df = fresh_df.drop(['Unnamed: 0'], 1)\n",
      "/tmp/ipykernel_8856/1248093981.py:4: FutureWarning: In a future version of pandas all arguments of DataFrame.drop except for the argument 'labels' will be keyword-only.\n",
      "  fresh_df = fresh_df.drop(['review_es'], 1)\n",
      "/tmp/ipykernel_8856/1248093981.py:5: FutureWarning: In a future version of pandas all arguments of DataFrame.drop except for the argument 'labels' will be keyword-only.\n",
      "  fresh_df = fresh_df.drop(['sentimiento'], 1)\n"
     ]
    }
   ],
   "source": [
    "fresh_df = pd.read_csv('./sanitized_v2.csv')\n",
    "\n",
    "fresh_df = fresh_df.drop(['Unnamed: 0'], 1)\n",
    "fresh_df = fresh_df.drop(['review_es'], 1)\n",
    "fresh_df = fresh_df.drop(['sentimiento'], 1)"
   ]
  },
  {
   "cell_type": "code",
   "execution_count": 99,
   "id": "74e47e98",
   "metadata": {},
   "outputs": [],
   "source": [
    "fresh_df.to_csv(\"sanitized_v2.csv\")"
   ]
  },
  {
   "cell_type": "code",
   "execution_count": 124,
   "id": "fa905570",
   "metadata": {},
   "outputs": [],
   "source": [
    "X = fresh_df.iloc[:, :-1]\n",
    "y = fresh_df.iloc[:, -1]\n",
    "\n",
    "X_train, X_test, y_train, y_test = train_test_split(X, y, test_size=0.2, random_state=42) # 80/20 split\n",
    "\n",
    "X_train = X_train['review_en'].tolist() # Convert English reviews in X_train to a list of strings\n",
    "X_test = X_test['review_en'].tolist() # Convert reviews in X_test to a list of strings\n",
    "\n",
    "vectorizer = TfidfVectorizer()\n",
    "\n",
    "X_train = vectorizer.fit_transform(X_train)\n",
    "X_test = vectorizer.transform(X_test)"
   ]
  },
  {
   "cell_type": "code",
   "execution_count": 142,
   "id": "8a6c3867",
   "metadata": {},
   "outputs": [],
   "source": [
    "mnb = MultinomialNB() # Instantiate a Multinomial Naive Bayes classifier object\n",
    "\n",
    "mnb.fit(X_train, y_train) # Fit the classifier to the object\n",
    "\n",
    "yhat = nb.predict(X_test) # Create a set of predictions on the test set\n",
    "\n",
    "mnb_accuracy = accuracy_score(y_test, yhat) # Generate an accuracy score based on the ground truth 'y_test' and the list of predictions 'yhat'"
   ]
  },
  {
   "cell_type": "code",
   "execution_count": 143,
   "id": "50fcb074",
   "metadata": {},
   "outputs": [
    {
     "name": "stdout",
     "output_type": "stream",
     "text": [
      "MultinomialNB accuracy: 0.8633\n"
     ]
    }
   ],
   "source": [
    "print(f\"MultinomialNB accuracy: {mnb_accuracy}\")"
   ]
  },
  {
   "cell_type": "markdown",
   "id": "2cd25704",
   "metadata": {},
   "source": [
    "- Bernoulli NB\n",
    "- Logistic Regression\n",
    "- Preprocessing\n",
    "- Check related works\n",
    "- Tune a model for the dataset."
   ]
  },
  {
   "cell_type": "code",
   "execution_count": 144,
   "id": "ab9a23ee",
   "metadata": {
    "scrolled": false
   },
   "outputs": [
    {
     "data": {
      "text/plain": [
       "<sklearn.metrics._plot.confusion_matrix.ConfusionMatrixDisplay at 0x7f1ce9bcfc10>"
      ]
     },
     "execution_count": 144,
     "metadata": {},
     "output_type": "execute_result"
    },
    {
     "data": {
      "image/png": "[encoded data removed]",
      "text/plain": [
       "<Figure size 640x480 with 2 Axes>"
      ]
     },
     "metadata": {},
     "output_type": "display_data"
    }
   ],
   "source": [
    "cm1 = confusion_matrix(y_test, yhat)\n",
    "\n",
    "cm1_display = ConfusionMatrixDisplay(confusion_matrix=cm1, display_labels=['negative', 'positive']) # Create a prettier version of the confusion matrix. \n",
    "\n",
    "cm1_display.plot()"
   ]
  },
  {
   "cell_type": "code",
   "execution_count": 130,
   "id": "85486144",
   "metadata": {},
   "outputs": [
    {
     "name": "stdout",
     "output_type": "stream",
     "text": [
      "              precision    recall  f1-score   support\n",
      "\n",
      "    negative       0.84      0.89      0.87      4961\n",
      "    positive       0.88      0.84      0.86      5039\n",
      "\n",
      "    accuracy                           0.86     10000\n",
      "   macro avg       0.86      0.86      0.86     10000\n",
      "weighted avg       0.86      0.86      0.86     10000\n",
      "\n"
     ]
    }
   ],
   "source": [
    "print(classification_report(y_test, yhat))"
   ]
  },
  {
   "cell_type": "markdown",
   "id": "9b25953b",
   "metadata": {},
   "source": [
    "## Bernoulli Naive Bayes"
   ]
  },
  {
   "cell_type": "code",
   "execution_count": 132,
   "id": "62c7f019",
   "metadata": {},
   "outputs": [],
   "source": [
    "bnb = BernoulliNB()\n",
    "\n",
    "bnb.fit(X_train, y_train)\n",
    "\n",
    "yhat2 = bnb.predict(X_test)\n",
    "\n",
    "bnb_accuracy = accuracy_score(y_test, yhat2)"
   ]
  },
  {
   "cell_type": "code",
   "execution_count": 133,
   "id": "8a4869c0",
   "metadata": {},
   "outputs": [
    {
     "name": "stdout",
     "output_type": "stream",
     "text": [
      "BernoulliNB accuracy: 0.8525\n"
     ]
    }
   ],
   "source": [
    "print(f\"BernoulliNB accuracy: {bnb_accuracy}\")"
   ]
  },
  {
   "cell_type": "code",
   "execution_count": 134,
   "id": "7e30dd13",
   "metadata": {},
   "outputs": [
    {
     "data": {
      "text/plain": [
       "<sklearn.metrics._plot.confusion_matrix.ConfusionMatrixDisplay at 0x7f1ceab5c8b0>"
      ]
     },
     "execution_count": 134,
     "metadata": {},
     "output_type": "execute_result"
    },
    {
     "data": {
      "image/png": "[encoded data removed]",
      "text/plain": [
       "<Figure size 640x480 with 2 Axes>"
      ]
     },
     "metadata": {},
     "output_type": "display_data"
    }
   ],
   "source": [
    "cm2 = confusion_matrix(y_test, yhat2)\n",
    "\n",
    "cm2_display = ConfusionMatrixDisplay(confusion_matrix=cm2, display_labels=['negative', 'positive'])\n",
    "\n",
    "cm2_display.plot()"
   ]
  },
  {
   "cell_type": "code",
   "execution_count": 135,
   "id": "55581964",
   "metadata": {},
   "outputs": [
    {
     "name": "stdout",
     "output_type": "stream",
     "text": [
      "              precision    recall  f1-score   support\n",
      "\n",
      "    negative       0.83      0.88      0.86      4961\n",
      "    positive       0.87      0.83      0.85      5039\n",
      "\n",
      "    accuracy                           0.85     10000\n",
      "   macro avg       0.85      0.85      0.85     10000\n",
      "weighted avg       0.85      0.85      0.85     10000\n",
      "\n"
     ]
    }
   ],
   "source": [
    "print(classification_report(y_test, yhat2))"
   ]
  },
  {
   "cell_type": "markdown",
   "id": "208a2ed7",
   "metadata": {},
   "source": [
    "## Logistic Regression"
   ]
  },
  {
   "cell_type": "code",
   "execution_count": 138,
   "id": "4d51f0d0",
   "metadata": {},
   "outputs": [],
   "source": [
    "lr = LogisticRegression(solver=\"newton-cg\")\n",
    "\n",
    "lr.fit(X_train, y_train)\n",
    "\n",
    "yhat3 = lr.predict(X_test)\n",
    "\n",
    "lr_accuracy = accuracy_score(y_test, yhat3)"
   ]
  },
  {
   "cell_type": "code",
   "execution_count": 139,
   "id": "4e4a31da",
   "metadata": {},
   "outputs": [
    {
     "name": "stdout",
     "output_type": "stream",
     "text": [
      "Logistic Regression accuracy: 0.9009\n"
     ]
    }
   ],
   "source": [
    "print(f\"Logistic Regression accuracy: {lr_accuracy}\")"
   ]
  },
  {
   "cell_type": "code",
   "execution_count": 140,
   "id": "7470549e",
   "metadata": {},
   "outputs": [
    {
     "data": {
      "text/plain": [
       "<sklearn.metrics._plot.confusion_matrix.ConfusionMatrixDisplay at 0x7f1ce88bff70>"
      ]
     },
     "execution_count": 140,
     "metadata": {},
     "output_type": "execute_result"
    },
    {
     "data": {
      "image/png": "[encoded data removed]",
      "text/plain": [
       "<Figure size 640x480 with 2 Axes>"
      ]
     },
     "metadata": {},
     "output_type": "display_data"
    }
   ],
   "source": [
    "cm3 = confusion_matrix(y_test, yhat3)\n",
    "\n",
    "cm3_display = ConfusionMatrixDisplay(confusion_matrix=cm3, display_labels=['negative', 'positive'])\n",
    "\n",
    "cm3_display.plot()"
   ]
  },
  {
   "cell_type": "code",
   "execution_count": 141,
   "id": "dcf6d345",
   "metadata": {},
   "outputs": [
    {
     "name": "stdout",
     "output_type": "stream",
     "text": [
      "              precision    recall  f1-score   support\n",
      "\n",
      "    negative       0.91      0.89      0.90      4961\n",
      "    positive       0.89      0.91      0.90      5039\n",
      "\n",
      "    accuracy                           0.90     10000\n",
      "   macro avg       0.90      0.90      0.90     10000\n",
      "weighted avg       0.90      0.90      0.90     10000\n",
      "\n"
     ]
    }
   ],
   "source": [
    "print(classification_report(y_test, yhat3))"
   ]
  }
 ],
 "metadata": {
  "kernelspec": {
   "display_name": "Python 3 (ipykernel)",
   "language": "python",
   "name": "python3"
  },
  "language_info": {
   "codemirror_mode": {
    "name": "ipython",
    "version": 3
   },
   "file_extension": ".py",
   "mimetype": "text/x-python",
   "name": "python",
   "nbconvert_exporter": "python",
   "pygments_lexer": "ipython3",
   "version": "3.10.9"
  }
 },
 "nbformat": 4,
 "nbformat_minor": 5
}
